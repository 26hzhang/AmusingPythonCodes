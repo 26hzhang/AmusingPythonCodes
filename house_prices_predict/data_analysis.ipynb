{
 "cells": [
  {
   "cell_type": "code",
   "execution_count": null,
   "metadata": {
    "collapsed": true
   },
   "outputs": [],
   "source": [
    "import pandas as pd\n",
    "import seaborn as sns\n",
    "import numpy as np\n",
    "import matplotlib.pyplot as plt\n",
    "from scipy import stats\n",
    "import warnings\n",
    "warnings.filterwarnings('ignore')"
   ]
  },
  {
   "cell_type": "markdown",
   "metadata": {},
   "source": [
    "## Load Data"
   ]
  },
  {
   "cell_type": "code",
   "execution_count": null,
   "metadata": {
    "collapsed": true
   },
   "outputs": [],
   "source": [
    "train = pd.read_csv('./data/train.csv')\n",
    "test = pd.read_csv('./data/test.csv')\n",
    "train_labels = train['SalePrice'] # separate labels from train dataset\n",
    "data = pd.concat([train, test], keys=['train', 'test'])"
   ]
  },
  {
   "cell_type": "markdown",
   "metadata": {},
   "source": [
    "## General Analysis"
   ]
  },
  {
   "cell_type": "code",
   "execution_count": null,
   "metadata": {},
   "outputs": [],
   "source": [
    "print(data.columns) # check column decorations"
   ]
  },
  {
   "cell_type": "code",
   "execution_count": null,
   "metadata": {},
   "outputs": [],
   "source": [
    "print('rows:', data.shape[0], ', columns: ', data.shape[1]) # count rows of total dataset\n",
    "print('rows in train dataset: ', train.shape[0])\n",
    "print('rows in test dataset: ', test.shape[0])"
   ]
  },
  {
   "cell_type": "code",
   "execution_count": null,
   "metadata": {},
   "outputs": [],
   "source": [
    "nans = pd.concat([train.isnull().sum(), train.isnull().sum() / train.shape[0], test.isnull().sum(), test.isnull().sum()\n",
    "                  / test.shape[0]], axis=1, keys=['Train', 'Percentage', 'Test', 'Percentage'])\n",
    "print(nans[nans.sum(axis=1) > 0])"
   ]
  },
  {
   "cell_type": "markdown",
   "metadata": {},
   "source": [
    "## Exploration on SalePrice"
   ]
  },
  {
   "cell_type": "code",
   "execution_count": null,
   "metadata": {},
   "outputs": [],
   "source": [
    "print(train_labels.describe())\n",
    "print(\"Skewness: %f\" % train_labels.skew())\n",
    "print(\"Kurtosis: %f\" % train_labels.kurt())"
   ]
  },
  {
   "cell_type": "code",
   "execution_count": null,
   "metadata": {},
   "outputs": [],
   "source": [
    "plt.subplot(1, 2, 1)\n",
    "plt.title(\"Sale Prices Dist\")\n",
    "sns.distplot(train_labels, fit=stats.norm)\n",
    "plt.subplot(1, 2, 2)\n",
    "stats.probplot(train_labels, plot=plt)\n",
    "plt.show()"
   ]
  },
  {
   "cell_type": "code",
   "execution_count": null,
   "metadata": {},
   "outputs": [],
   "source": [
    "# log transformation\n",
    "plt.subplot(1, 2, 1)\n",
    "plt.title(\"Sale Prices Dist\")\n",
    "sns.distplot(np.log(train_labels), fit=stats.norm)\n",
    "plt.subplot(1, 2, 2)\n",
    "stats.probplot(np.log(train_labels), plot=plt)\n",
    "plt.show()\n",
    "print(\"Skewness: %f\" % np.log(train_labels).skew())\n",
    "print(\"Kurtosis: %f\" % np.log(train_labels).kurt())"
   ]
  },
  {
   "cell_type": "markdown",
   "metadata": {},
   "source": [
    "## Explore on Features"
   ]
  },
  {
   "cell_type": "code",
   "execution_count": null,
   "metadata": {
    "collapsed": true
   },
   "outputs": [],
   "source": [
    "train.drop(['Id', 'MiscFeature', 'Fence', 'PoolQC', 'FireplaceQu', 'Alley'], axis=1, inplace=True)"
   ]
  },
  {
   "cell_type": "code",
   "execution_count": null,
   "metadata": {},
   "outputs": [],
   "source": [
    "# draw correlation coefficient matrix\n",
    "corrmat = train.corr()\n",
    "f, ax = plt.subplots(figsize=(12, 9))\n",
    "sns.heatmap(corrmat, vmax=.8, square=True, cmap=\"YlGnBu\")\n",
    "plt.yticks(rotation=0)\n",
    "plt.xticks(rotation=90)\n",
    "plt.show()"
   ]
  },
  {
   "cell_type": "code",
   "execution_count": null,
   "metadata": {},
   "outputs": [],
   "source": [
    "# number of variables for heatmap\n",
    "corrmat = train.corr()\n",
    "cols = corrmat.nlargest(10, 'SalePrice')['SalePrice'].index\n",
    "cm = np.corrcoef(train[cols].values.T)\n",
    "sns.set(font_scale=1.25)\n",
    "hm = sns.heatmap(cm, cbar=True, annot=True, square=True, cmap=\"YlGnBu\", fmt='.2f', annot_kws={'size': 10}, \n",
    "                 yticklabels=cols.values, xticklabels=cols.values)\n",
    "plt.yticks(rotation=0)\n",
    "plt.xticks(rotation=90)\n",
    "plt.show()"
   ]
  },
  {
   "cell_type": "code",
   "execution_count": null,
   "metadata": {},
   "outputs": [],
   "source": [
    "# Bsmt relations\n",
    "f, (ax1, ax2, ax3) = plt.subplots(1, 3)\n",
    "data_total_bsmt = pd.concat([train['SalePrice'], train['TotalBsmtSF']], axis=1)\n",
    "data_total_bsmt.plot.scatter(x='TotalBsmtSF', y='SalePrice', ylim=(0, 800000), ax=ax1)\n",
    "data1 = pd.concat([train['SalePrice'], train['1stFlrSF']], axis=1)\n",
    "data1.plot.scatter(x='1stFlrSF', y='SalePrice', ylim=(0, 800000), ax=ax2)\n",
    "data2 = pd.concat([train['SalePrice'], train['2ndFlrSF']], axis=1)\n",
    "data2.plot.scatter(x='2ndFlrSF', y='SalePrice', ylim=(0, 800000), ax=ax3)\n",
    "plt.show()"
   ]
  },
  {
   "cell_type": "code",
   "execution_count": null,
   "metadata": {
    "scrolled": false
   },
   "outputs": [],
   "source": [
    "sns.set()\n",
    "cols = ['SalePrice', 'OverallQual', 'GrLivArea', 'GarageCars', 'TotalBsmtSF', 'FullBath', 'YearBuilt']\n",
    "sns.pairplot(train[cols], size=2.5)\n",
    "plt.show()"
   ]
  },
  {
   "cell_type": "code",
   "execution_count": null,
   "metadata": {
    "collapsed": true
   },
   "outputs": [],
   "source": [
    "train.drop(['BsmtFinSF1', 'BsmtFinSF2', 'BsmtUnfSF'], axis=1, inplace=True)\n",
    "train['TotalBsmtSF'] = train['TotalBsmtSF'].fillna(0)\n",
    "train['1stFlrSF'] = train['1stFlrSF'].fillna(0)\n",
    "train['2ndFlrSF'] = train['2ndFlrSF'].fillna(0)\n",
    "train['TotalSF'] = train['TotalBsmtSF'] + train['1stFlrSF'] + train['2ndFlrSF']\n",
    "train.drop(['TotalBsmtSF', '1stFlrSF', '2ndFlrSF'], axis=1, inplace=True)\n",
    "train.drop(['GarageArea'], axis=1, inplace=True) # as analysis before"
   ]
  },
  {
   "cell_type": "code",
   "execution_count": null,
   "metadata": {
    "collapsed": true
   },
   "outputs": [],
   "source": [
    "# draw TotalSF-SalePrice\n",
    "data_total = pd.concat([train['SalePrice'], train['TotalSF']], axis=1)\n",
    "data_total.plot.scatter(x='TotalSF', y='SalePrice', ylim=(0, 800000))\n",
    "plt.show()"
   ]
  },
  {
   "cell_type": "code",
   "execution_count": null,
   "metadata": {
    "collapsed": true
   },
   "outputs": [],
   "source": [
    "f, (ax1, ax2, ax3) = plt.subplots(1, 3)\n",
    "data_gr = pd.concat([train['SalePrice'], train['GrLivArea']], axis=1)\n",
    "data_gr.plot.scatter(x='GrLivArea', y='SalePrice', ylim=(0, 800000), ax=ax1)\n",
    "data_to = pd.concat([train['SalePrice'], train['TotRmsAbvGrd']], axis=1)\n",
    "data_to.plot.scatter(x='TotRmsAbvGrd', y='SalePrice', ylim=(0, 800000), ax=ax2)\n",
    "gr_to = pd.concat([train['GrLivArea'], train['TotRmsAbvGrd']], axis=1)\n",
    "gr_to.plot.scatter(x='TotRmsAbvGrd', y='GrLivArea', ax=ax3)\n",
    "plt.show()"
   ]
  },
  {
   "cell_type": "code",
   "execution_count": null,
   "metadata": {
    "collapsed": true
   },
   "outputs": [],
   "source": [
    "train.drop(['Utilities', 'RoofMatl', 'MasVnrArea', 'MasVnrType', 'Heating', 'LowQualFinSF',\n",
    "            'BsmtFullBath', 'BsmtHalfBath', 'BsmtQual', 'BsmtCond', 'BsmtExposure', 'BsmtFinType1', 'BsmtFinType2',\n",
    "            'Functional', 'GarageYrBlt', 'GarageCond', 'GarageType', 'GarageFinish', 'GarageQual', 'WoodDeckSF',\n",
    "            'OpenPorchSF', 'EnclosedPorch', '3SsnPorch', 'ScreenPorch', 'PoolArea',\n",
    "            'MiscVal'], axis=1, inplace=True)\n",
    "print(train.columns)"
   ]
  },
  {
   "cell_type": "code",
   "execution_count": null,
   "metadata": {
    "collapsed": true
   },
   "outputs": [],
   "source": [
    "# OverallQual and SalePrice\n",
    "overall_qual = pd.concat([train['SalePrice'], train['OverallQual']], axis=1)\n",
    "f, ax = plt.subplots(figsize=(8, 6))\n",
    "fig = sns.boxplot(x='OverallQual', y=\"SalePrice\", data=overall_qual)\n",
    "fig.axis(ymin=0, ymax=800000)\n",
    "plt.show()"
   ]
  },
  {
   "cell_type": "code",
   "execution_count": null,
   "metadata": {
    "collapsed": true
   },
   "outputs": [],
   "source": [
    "# YearBuild and SalePrice\n",
    "year_built = pd.concat([train['SalePrice'], train['YearBuilt']], axis=1)\n",
    "f, ax = plt.subplots(figsize=(16, 8))\n",
    "fig = sns.boxplot(x='YearBuilt', y=\"SalePrice\", data=year_built)\n",
    "fig.axis(ymin=0, ymax=800000)\n",
    "plt.xticks(rotation=90)\n",
    "plt.show()"
   ]
  },
  {
   "cell_type": "code",
   "execution_count": null,
   "metadata": {
    "collapsed": true
   },
   "outputs": [],
   "source": [
    "plt.figure()\n",
    "plt.subplot(1, 2, 1)\n",
    "plt.title(\"GrLivArea Dist\")\n",
    "sns.distplot(train['GrLivArea'], fit=stats.norm)\n",
    "plt.subplot(1, 2, 2)\n",
    "stats.probplot(train['GrLivArea'], plot=plt)\n",
    "plt.show()\n",
    "print(\"Skewness: %f\" % train['GrLivArea'].skew())\n",
    "print(\"Kurtosis: %f\" % train['GrLivArea'].kurt())"
   ]
  },
  {
   "cell_type": "code",
   "execution_count": null,
   "metadata": {
    "collapsed": true
   },
   "outputs": [],
   "source": [
    "sf = np.log(train['GrLivArea'])\n",
    "sp = np.log(train['SalePrice'])\n",
    "plt.scatter(sf[sf > 0], sp[sf > 0])\n",
    "plt.show()"
   ]
  },
  {
   "cell_type": "code",
   "execution_count": null,
   "metadata": {
    "collapsed": true
   },
   "outputs": [],
   "source": [
    "# MSSubClass and SalePrice, and others\n",
    "mssubclass = pd.concat([train['SalePrice'], train['ExterQual']], axis=1)\n",
    "f, ax = plt.subplots(figsize=(8, 6))\n",
    "fig = sns.boxplot(x='ExterQual', y=\"SalePrice\", data=mssubclass)\n",
    "fig.axis(ymin=0, ymax=800000)\n",
    "plt.xticks(rotation=90)\n",
    "plt.show()"
   ]
  },
  {
   "cell_type": "code",
   "execution_count": null,
   "metadata": {
    "collapsed": true
   },
   "outputs": [],
   "source": [
    "# LotFrontage, LotArea and SalePrice, and others\n",
    "# f, (ax1, ax2) = sns.plt.subplots(1, 2)\n",
    "LotFrontage = pd.concat([train['SalePrice'], train['OverallCond']], axis=1)\n",
    "LotFrontage.plot.scatter(x='OverallCond', y='SalePrice', ylim=(0, 800000))\n",
    "# LotArea = pd.concat([train['SalePrice'], train['LotArea']], axis=1)\n",
    "# LotArea.plot.scatter(x='LotArea', y='SalePrice', ylim=(0, 800000), ax=ax2)\n",
    "plt.show()"
   ]
  }
 ],
 "metadata": {
  "kernelspec": {
   "display_name": "Python 3",
   "language": "python",
   "name": "python3"
  },
  "language_info": {
   "codemirror_mode": {
    "name": "ipython",
    "version": 2
   },
   "file_extension": ".py",
   "mimetype": "text/x-python",
   "name": "python",
   "nbconvert_exporter": "python",
   "pygments_lexer": "ipython2",
   "version": "2.7.13"
  }
 },
 "nbformat": 4,
 "nbformat_minor": 2
}
