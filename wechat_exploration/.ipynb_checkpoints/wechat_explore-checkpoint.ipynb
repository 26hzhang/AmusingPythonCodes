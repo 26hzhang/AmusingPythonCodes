{
 "cells": [
  {
   "cell_type": "markdown",
   "metadata": {},
   "source": [
    "## Import Packages and Login to WeChat"
   ]
  },
  {
   "cell_type": "code",
   "execution_count": null,
   "metadata": {},
   "outputs": [],
   "source": [
    "import itchat  # itchat documentation -- https://itchat.readthedocs.io/zh/latest/api/\n",
    "import matplotlib.pyplot as plt\n",
    "import seaborn as sns\n",
    "import numpy as np\n",
    "import pandas as pd\n",
    "import re\n",
    "from wordcloud import WordCloud, ImageColorGenerator\n",
    "import PIL.Image as Image\n",
    "import jieba  # chinese word segementation tool\n",
    "from matplotlib.font_manager import FontProperties\n",
    "font = FontProperties(fname='./data/DroidSansFallbackFull.ttf', size=14)  # load font\n",
    "\n",
    "# login, default a QR code will be generated, scan for login\n",
    "itchat.login()"
   ]
  },
  {
   "cell_type": "markdown",
   "metadata": {},
   "source": [
    "## Extract Friend List"
   ]
  },
  {
   "cell_type": "code",
   "execution_count": null,
   "metadata": {
    "collapsed": true
   },
   "outputs": [],
   "source": [
    "friends = itchat.get_friends(update=True)[0:]  # get all friends"
   ]
  },
  {
   "cell_type": "code",
   "execution_count": null,
   "metadata": {},
   "outputs": [],
   "source": [
    "print(friends[0])  # the first one is yourself"
   ]
  },
  {
   "cell_type": "markdown",
   "metadata": {},
   "source": [
    "## Get Male-Female Ratio"
   ]
  },
  {
   "cell_type": "code",
   "execution_count": null,
   "metadata": {},
   "outputs": [],
   "source": [
    "# get male-female-ratio\n",
    "def get_male_female_count(friends):\n",
    "    male = 0\n",
    "    female = 0\n",
    "    others = 0\n",
    "    for friend in friends:\n",
    "        sex = friend['Sex']\n",
    "        if sex == 1:\n",
    "            male += 1\n",
    "        elif sex == 2:\n",
    "            female += 1\n",
    "        else:\n",
    "            others += 1\n",
    "    return male, female, others\n",
    "\n",
    "male, female, others = get_male_female_count(friends[1:])\n",
    "total = len(friends[1:])\n",
    "print('Male population: {:d}, ratio: {:.4f}'.format(male, male / float(total)))\n",
    "print('Female population: {:d}, ratio: {:.4f}'.format(female, female / float(total)))\n",
    "print('Others: {:d}, ratio: {:.4f}'.format(others, others / float(total)))"
   ]
  },
  {
   "cell_type": "code",
   "execution_count": null,
   "metadata": {},
   "outputs": [],
   "source": [
    "# plot male-female-ratio\n",
    "index = np.arange(3)\n",
    "genders = (male, female, others)\n",
    "bar_width = 0.35\n",
    "plt.figure(figsize=(14, 7))\n",
    "plt.bar(index, genders, bar_width, alpha=0.6, color='rgb')\n",
    "plt.xlabel('Gender', fontsize=16)  \n",
    "plt.ylabel('Population', fontsize=16)\n",
    "plt.title('Male-Female Population', fontsize=18)  \n",
    "plt.xticks(index, ('Male', 'Female', 'Others'), fontsize=14, rotation=20)\n",
    "plt.ylim(0,220)\n",
    "for idx, gender in zip(index, genders):\n",
    "    plt.text(idx, gender + 0.1, '%.0f' % gender, ha='center', va='bottom', fontsize=14, color='black')\n",
    "plt.show()"
   ]
  },
  {
   "cell_type": "markdown",
   "metadata": {},
   "source": [
    "## Get Location Distributions"
   ]
  },
  {
   "cell_type": "code",
   "execution_count": null,
   "metadata": {
    "collapsed": true
   },
   "outputs": [],
   "source": [
    "# extract the variables: NickName, Sex, City, Province, Signature\n",
    "def get_features(friends):\n",
    "    features = []\n",
    "    for friend in friends:\n",
    "        feature = {'NickName': friend['NickName'], 'Sex': friend['Sex'], 'City': friend['City'], \n",
    "                  'Province': friend['Province'], 'Signature': friend['Signature']}\n",
    "        features.append(feature)\n",
    "    return pd.DataFrame(features)\n",
    "features = get_features(friends[1:])"
   ]
  },
  {
   "cell_type": "code",
   "execution_count": null,
   "metadata": {},
   "outputs": [],
   "source": [
    "print(features.columns)\n",
    "features.head()"
   ]
  },
  {
   "cell_type": "code",
   "execution_count": null,
   "metadata": {},
   "outputs": [],
   "source": [
    "locations = features.loc[:, ['Province', 'City']]  # get location columns\n",
    "locations = locations[locations['Province'] != '']  # clean empty city or province records\n",
    "data = locations.groupby(['Province', 'City']).size().unstack()  # group by and count\n",
    "count_subset = data.take(data.sum(1).argsort())[-20:]  # obtain the 20 highest data\n",
    "\n",
    "# plot\n",
    "subset_plot = count_subset.plot(kind='bar', stacked=True, figsize=(24, 24))\n",
    "\n",
    "# set fonts\n",
    "xtick_labels = subset_plot.get_xticklabels()\n",
    "for label in xtick_labels: \n",
    "    label.set_fontproperties(font)\n",
    "legend_labels = subset_plot.legend().texts\n",
    "for label in legend_labels:\n",
    "    label.set_fontproperties(font)\n",
    "    label.set_fontsize(10)\n",
    "\n",
    "plt.xlabel('Province', fontsize=20)\n",
    "plt.ylabel('Number', fontsize=20)\n",
    "plt.show()"
   ]
  },
  {
   "cell_type": "markdown",
   "metadata": {},
   "source": [
    "## Draw Word Cloud"
   ]
  },
  {
   "cell_type": "code",
   "execution_count": null,
   "metadata": {
    "collapsed": true
   },
   "outputs": [],
   "source": [
    "sigature_list = []\n",
    "for signature in features['Signature']:\n",
    "    signature = signature.strip().replace('span', '').replace('class', '').replace('emoji', '')\n",
    "    # re.compile(ur'[^a-zA-Z0-9\\u4e00-\\u9fa5 ]').sub('', signature)\n",
    "    signature = re.compile('1f\\d+\\w*|[<>/=]').sub('', signature)\n",
    "    if (len(signature) > 0):\n",
    "        sigature_list.append(signature)\n",
    "\n",
    "text = ''.join(sigature_list)\n",
    "# print(text)"
   ]
  },
  {
   "cell_type": "code",
   "execution_count": null,
   "metadata": {},
   "outputs": [],
   "source": [
    "word_list = jieba.cut(text, cut_all=True)\n",
    "words = ' '.join(word_list)\n",
    "# print(words)"
   ]
  },
  {
   "cell_type": "code",
   "execution_count": null,
   "metadata": {},
   "outputs": [],
   "source": [
    "coloring = np.array(Image.open('./data/avatar.jpg'))\n",
    "wc = WordCloud(background_color='white', max_words=2000, mask=coloring, max_font_size=60, random_state=42, \n",
    "               font_path='./data/DroidSansFallbackFull.ttf', scale=2).generate(words)\n",
    "image_color = ImageColorGenerator(coloring)\n",
    "plt.figure(figsize=(32, 16))\n",
    "plt.imshow(wc.recolor(color_func=image_color))\n",
    "plt.imshow(wc)\n",
    "plt.axis('off')\n",
    "plt.show()"
   ]
  },
  {
   "cell_type": "code",
   "execution_count": null,
   "metadata": {
    "collapsed": true
   },
   "outputs": [],
   "source": []
  }
 ],
 "metadata": {
  "kernelspec": {
   "display_name": "Python 3",
   "language": "python",
   "name": "python3"
  },
  "language_info": {
   "codemirror_mode": {
    "name": "ipython",
    "version": 2
   },
   "file_extension": ".py",
   "mimetype": "text/x-python",
   "name": "python",
   "nbconvert_exporter": "python",
   "pygments_lexer": "ipython2",
   "version": "2.7.13"
  }
 },
 "nbformat": 4,
 "nbformat_minor": 2
}
