{
 "cells": [
  {
   "cell_type": "code",
   "execution_count": 1,
   "metadata": {
    "collapsed": true
   },
   "outputs": [],
   "source": [
    "import tensorflow as tf\n",
    "import numpy as np\n",
    "from tensorflow.examples.tutorials.mnist import input_data\n",
    "import warnings\n",
    "warnings.filterwarnings('ignore')"
   ]
  },
  {
   "cell_type": "code",
   "execution_count": 2,
   "metadata": {},
   "outputs": [
    {
     "name": "stdout",
     "output_type": "stream",
     "text": [
      "Extracting ./MNIST_data/train-images-idx3-ubyte.gz\n",
      "Extracting ./MNIST_data/train-labels-idx1-ubyte.gz\n",
      "Extracting ./MNIST_data/t10k-images-idx3-ubyte.gz\n",
      "Extracting ./MNIST_data/t10k-labels-idx1-ubyte.gz\n"
     ]
    }
   ],
   "source": [
    "# load data\n",
    "mnist = input_data.read_data_sets('./data/MNIST_data', one_hot=True)"
   ]
  },
  {
   "cell_type": "code",
   "execution_count": 3,
   "metadata": {
    "collapsed": true
   },
   "outputs": [],
   "source": [
    "# setting hyperparamters for training\n",
    "lr = 0.001\n",
    "training_iters = 100000\n",
    "batch_size = 128"
   ]
  },
  {
   "cell_type": "code",
   "execution_count": 4,
   "metadata": {
    "collapsed": true
   },
   "outputs": [],
   "source": [
    "# in mnist, each image has shape 28*28, so in RNN, each time step, sequence length is 28, time steps are 28\n",
    "# define neural networks parameters\n",
    "n_inputs = 28\n",
    "n_steps = 28\n",
    "n_hidden_units = 128\n",
    "n_classes = 10"
   ]
  },
  {
   "cell_type": "code",
   "execution_count": 5,
   "metadata": {
    "collapsed": true
   },
   "outputs": [],
   "source": [
    "# define input data and weight parameters\n",
    "x = tf.placeholder(tf.float32, [None, n_steps, n_inputs])\n",
    "y = tf.placeholder(tf.float32, [None, n_classes])\n",
    "weights = {\n",
    "    'in': tf.Variable(tf.random_normal([n_inputs, n_hidden_units])),  # shape (28, 128)\n",
    "    'out': tf.Variable(tf.random_normal([n_hidden_units, n_classes]))  # shape (128, 10)\n",
    "}\n",
    "biases = {\n",
    "    'in': tf.Variable(tf.constant(0.1, shape=[n_hidden_units, ])),  # shape (128, )\n",
    "    'out': tf.Variable(tf.constant(0.1, shape=[n_classes, ]))  # shape (10, )\n",
    "}"
   ]
  },
  {
   "cell_type": "code",
   "execution_count": 6,
   "metadata": {
    "collapsed": true
   },
   "outputs": [],
   "source": [
    "# define a model\n",
    "def RNN(X, weights, biases):\n",
    "    # convert input data to (128 batch * 28 steps, 28 inputs)\n",
    "    X = tf.reshape(X, [-1, n_inputs])\n",
    "    # forward to hidden layer\n",
    "    # X_in = (128 batch * 28 steps, 128 hidden)\n",
    "    X_in = tf.matmul(X, weights['in']) + biases['in']\n",
    "    # X_in ==> (128 batch, 28 steps, 128 hidden)\n",
    "    X_in = tf.reshape(X_in, [-1, n_steps, n_hidden_units])\n",
    "    # Using Basic LSTM Unit\n",
    "    lstm_cell = tf.contrib.rnn.BasicLSTMCell(n_hidden_units, forget_bias=1.0, state_is_tuple=True)\n",
    "    # initialize with zero, lstm is consist of two parts: (c_state, h_state)\n",
    "    init_state = lstm_cell.zero_state(batch_size, dtype=tf.float32)\n",
    "    # dynamic_rnn accepts the tensor (batch, steps, inputs) or (steps, batch, inputs) as X_in\n",
    "    outputs, final_state = tf.nn.dynamic_rnn(lstm_cell, X_in, initial_state=init_state, time_major=False)\n",
    "    \n",
    "    results = tf.matmul(final_state[1], weights['out']) + biases['out']\n",
    "    return results"
   ]
  },
  {
   "cell_type": "code",
   "execution_count": 7,
   "metadata": {
    "collapsed": true
   },
   "outputs": [],
   "source": [
    "# define loss and optimizer\n",
    "pred = RNN(x, weights, biases)\n",
    "cost = tf.reduce_mean(tf.nn.softmax_cross_entropy_with_logits(logits=pred, labels=y))\n",
    "train_op = tf.train.AdamOptimizer(lr).minimize(cost)"
   ]
  },
  {
   "cell_type": "code",
   "execution_count": 8,
   "metadata": {
    "collapsed": true
   },
   "outputs": [],
   "source": [
    "# model predict results and compute accuracy\n",
    "correct_pred = tf.equal(tf.argmax(pred, 1), tf.argmax(y, 1))\n",
    "accuracy = tf.reduce_mean(tf.cast(correct_pred, tf.float32))"
   ]
  },
  {
   "cell_type": "code",
   "execution_count": 9,
   "metadata": {},
   "outputs": [
    {
     "name": "stdout",
     "output_type": "stream",
     "text": [
      "0.171875\n",
      "0.75\n",
      "0.757812\n",
      "0.789062\n",
      "0.875\n",
      "0.804688\n",
      "0.859375\n",
      "0.890625\n",
      "0.914062\n",
      "0.90625\n",
      "0.914062\n",
      "0.898438\n",
      "0.882812\n",
      "0.9375\n",
      "0.914062\n",
      "0.921875\n",
      "0.929688\n",
      "0.953125\n",
      "0.929688\n",
      "0.945312\n",
      "0.921875\n",
      "0.945312\n",
      "0.976562\n",
      "0.976562\n",
      "0.914062\n",
      "0.96875\n",
      "0.96875\n",
      "0.960938\n",
      "0.976562\n",
      "0.953125\n",
      "0.976562\n",
      "0.96875\n",
      "0.953125\n",
      "0.921875\n",
      "0.96875\n",
      "0.976562\n",
      "0.96875\n",
      "0.960938\n",
      "0.976562\n",
      "0.984375\n"
     ]
    }
   ],
   "source": [
    "with tf.Session() as sess:\n",
    "    sess.run(tf.global_variables_initializer())\n",
    "    step = 0\n",
    "    while step * batch_size < training_iters:\n",
    "        batch_xs, batch_ys = mnist.train.next_batch(batch_size)\n",
    "        batch_xs = batch_xs.reshape([batch_size, n_steps, n_inputs])\n",
    "        sess.run([train_op], feed_dict={x: batch_xs, y: batch_ys})\n",
    "        if step % 20 == 0:\n",
    "            print(sess.run(accuracy, feed_dict={x: batch_xs, y: batch_ys}))\n",
    "        step += 1"
   ]
  }
 ],
 "metadata": {
  "kernelspec": {
   "display_name": "Python 3",
   "language": "python",
   "name": "python3"
  },
  "language_info": {
   "codemirror_mode": {
    "name": "ipython",
    "version": 2
   },
   "file_extension": ".py",
   "mimetype": "text/x-python",
   "name": "python",
   "nbconvert_exporter": "python",
   "pygments_lexer": "ipython2",
   "version": "2.7.13"
  }
 },
 "nbformat": 4,
 "nbformat_minor": 2
}
