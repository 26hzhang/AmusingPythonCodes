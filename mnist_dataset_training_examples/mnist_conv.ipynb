{
 "cells": [
  {
   "cell_type": "code",
   "execution_count": 1,
   "metadata": {
    "collapsed": true
   },
   "outputs": [],
   "source": [
    "import tensorflow as tf\n",
    "import numpy as np\n",
    "from tensorflow.examples.tutorials.mnist import input_data"
   ]
  },
  {
   "cell_type": "code",
   "execution_count": 2,
   "metadata": {},
   "outputs": [
    {
     "name": "stdout",
     "output_type": "stream",
     "text": [
      "Extracting ./data/MNIST_data/train-images-idx3-ubyte.gz\n",
      "Extracting ./data/MNIST_data/train-labels-idx1-ubyte.gz\n",
      "Extracting ./data/MNIST_data/t10k-images-idx3-ubyte.gz\n",
      "Extracting ./data/MNIST_data/t10k-labels-idx1-ubyte.gz\n"
     ]
    }
   ],
   "source": [
    "mnist = input_data.read_data_sets('./data/MNIST_data/', one_hot=True)\n",
    "trX, trY, teX, teY = mnist.train.images, mnist.train.labels, mnist.test.images, mnist.test.labels"
   ]
  },
  {
   "cell_type": "code",
   "execution_count": 3,
   "metadata": {
    "collapsed": true
   },
   "outputs": [],
   "source": [
    "trX = trX.reshape(-1, 28, 28, 1)  # reshape trX, -1 means don't consider the number of input images\n",
    "teX = teX.reshape(-1, 28, 28, 1)  # reshape teX, 28 * 28 * 1 input image"
   ]
  },
  {
   "cell_type": "code",
   "execution_count": 4,
   "metadata": {
    "collapsed": true
   },
   "outputs": [],
   "source": [
    "X = tf.placeholder(tf.float32, [None, 28, 28, 1])\n",
    "Y = tf.placeholder(tf.float32, [None, 10])"
   ]
  },
  {
   "cell_type": "code",
   "execution_count": 5,
   "metadata": {
    "collapsed": true
   },
   "outputs": [],
   "source": [
    "# define weight initializer\n",
    "def init_weights(shape):\n",
    "    return tf.Variable(tf.random_normal(shape, stddev=0.01))"
   ]
  },
  {
   "cell_type": "code",
   "execution_count": 6,
   "metadata": {
    "collapsed": true
   },
   "outputs": [],
   "source": [
    "# initialize weights\n",
    "w = init_weights([3, 3, 1, 32])  # conv kernel is 3*3, input dim is 1, output dim is 32\n",
    "w2 = init_weights([3, 3, 32, 64])  # input dim is 32 (same as previous layer's output), output dim is 64\n",
    "w3 = init_weights([3, 3, 64, 128])  # input dim is 64, output dim is 128\n",
    "# full-connect layer, input dim is 128*4*4, which is convert previous output from 3-dim to 1-dim, output dim is 625\n",
    "w4 = init_weights([128 * 4 * 4, 625])\n",
    "w_o = init_weights([625, 10])"
   ]
  },
  {
   "cell_type": "code",
   "execution_count": 7,
   "metadata": {
    "collapsed": true
   },
   "outputs": [],
   "source": [
    "# define model\n",
    "def model(X, w, w2, w3, w4, w_o, p_keep_conv, p_keep_hidden):\n",
    "    # the first layer of conv, pooling and dropout\n",
    "    l1a = tf.nn.relu(tf.nn.conv2d(X, w, strides=[1, 1, 1, 1], padding='SAME'))  # l1a shape = (?, 28, 28, 32)\n",
    "    l1 = tf.nn.max_pool(l1a, ksize=[1, 2, 2, 1], strides=[1, 2, 2, 1], padding='SAME')  # l1 shape = (?, 14, 14, 32)\n",
    "    l1 = tf.nn.dropout(l1, p_keep_conv)\n",
    "    \n",
    "    # the second layer of conv, pooling and dropout\n",
    "    l2a = tf.nn.relu(tf.nn.conv2d(l1, w2, strides=[1, 1, 1, 1], padding='SAME'))  # l2a shape = (?, 14, 14, 64)\n",
    "    l2 = tf.nn.max_pool(l2a, ksize=[1, 2, 2, 1], strides=[1, 2, 2, 1], padding='SAME')  # l2 shape = (?, 7, 7, 64)\n",
    "    l2 = tf.nn.dropout(l2, p_keep_conv)\n",
    "    \n",
    "    # the third layer of conv, pooling and dropout\n",
    "    l3a = tf.nn.relu(tf.nn.conv2d(l2, w3, strides=[1, 1, 1, 1], padding='SAME'))  # l3a shape = (?, 7, 7, 128)\n",
    "    l3 = tf.nn.max_pool(l3a, ksize=[1, 2, 2, 1], strides=[1, 2 ,2, 1], padding='SAME')  # l3 shape = (?, 4, 4, 128)\n",
    "    l3 = tf.reshape(l3, [-1, w4.get_shape().as_list()[0]])  # reshape to (?, 128*4*4)\n",
    "    l3 = tf.nn.dropout(l3, p_keep_conv)\n",
    "    \n",
    "    # full connect layer\n",
    "    l4 = tf.nn.relu(tf.matmul(l3, w4))\n",
    "    l4 = tf.nn.dropout(l4, p_keep_hidden)\n",
    "    \n",
    "    # output layer\n",
    "    pyx = tf.matmul(l4, w_o)\n",
    "    return pyx"
   ]
  },
  {
   "cell_type": "code",
   "execution_count": 8,
   "metadata": {
    "collapsed": true
   },
   "outputs": [],
   "source": [
    "#  generate neural networks model\n",
    "p_keep_conv = tf.placeholder(tf.float32)\n",
    "p_keep_hidden = tf.placeholder(tf.float32)\n",
    "py_x = model(X, w, w2, w3, w4, w_o, p_keep_conv, p_keep_hidden)"
   ]
  },
  {
   "cell_type": "code",
   "execution_count": 9,
   "metadata": {
    "collapsed": true
   },
   "outputs": [],
   "source": [
    "# define cost function and optimizer\n",
    "cost = tf.reduce_mean(tf.nn.softmax_cross_entropy_with_logits(logits=py_x, labels=Y))\n",
    "train_op = tf.train.RMSPropOptimizer(0.001, 0.9).minimize(cost)\n",
    "predict_op = tf.argmax(py_x, 1)"
   ]
  },
  {
   "cell_type": "code",
   "execution_count": 10,
   "metadata": {},
   "outputs": [
    {
     "name": "stdout",
     "output_type": "stream",
     "text": [
      "(0, 0.9453125)\n",
      "(1, 0.95703125)\n",
      "(2, 0.984375)\n",
      "(3, 0.96875)\n",
      "(4, 0.9765625)\n",
      "(5, 0.984375)\n",
      "(6, 0.9765625)\n",
      "(7, 0.97265625)\n",
      "(8, 0.99609375)\n",
      "(9, 0.98828125)\n",
      "(10, 0.98046875)\n",
      "(11, 1.0)\n",
      "(12, 0.984375)\n",
      "(13, 0.9921875)\n",
      "(14, 0.984375)\n",
      "(15, 0.98046875)\n",
      "(16, 0.9921875)\n",
      "(17, 0.98828125)\n",
      "(18, 0.9765625)\n",
      "(19, 0.9765625)\n",
      "(20, 0.99609375)\n",
      "(21, 0.98828125)\n",
      "(22, 0.9921875)\n",
      "(23, 0.98828125)\n",
      "(24, 1.0)\n",
      "(25, 0.99609375)\n",
      "(26, 0.98828125)\n",
      "(27, 0.98828125)\n",
      "(28, 0.98046875)\n",
      "(29, 0.9921875)\n",
      "(30, 0.98046875)\n",
      "(31, 0.99609375)\n",
      "(32, 0.9921875)\n",
      "(33, 1.0)\n",
      "(34, 0.98828125)\n",
      "(35, 0.98046875)\n",
      "(36, 0.99609375)\n",
      "(37, 0.9921875)\n",
      "(38, 0.98828125)\n",
      "(39, 0.9921875)\n",
      "(40, 0.984375)\n",
      "(41, 0.97265625)\n",
      "(42, 0.9921875)\n",
      "(43, 0.984375)\n",
      "(44, 0.99609375)\n",
      "(45, 1.0)\n",
      "(46, 0.98828125)\n",
      "(47, 0.98046875)\n",
      "(48, 0.98828125)\n",
      "(49, 0.9921875)\n",
      "(50, 0.9921875)\n",
      "(51, 0.98046875)\n",
      "(52, 0.98046875)\n",
      "(53, 0.99609375)\n",
      "(54, 0.9921875)\n",
      "(55, 0.9921875)\n",
      "(56, 0.96875)\n",
      "(57, 0.9921875)\n",
      "(58, 0.98828125)\n",
      "(59, 0.984375)\n",
      "(60, 0.98828125)\n",
      "(61, 0.98828125)\n",
      "(62, 0.97265625)\n",
      "(63, 0.9921875)\n",
      "(64, 0.984375)\n",
      "(65, 0.9921875)\n",
      "(66, 0.9765625)\n",
      "(67, 0.99609375)\n",
      "(68, 0.98828125)\n",
      "(69, 0.98828125)\n",
      "(70, 0.984375)\n",
      "(71, 0.984375)\n",
      "(72, 0.9765625)\n",
      "(73, 0.96875)\n",
      "(74, 0.98046875)\n",
      "(75, 0.984375)\n",
      "(76, 0.984375)\n",
      "(77, 0.98046875)\n",
      "(78, 0.9921875)\n",
      "(79, 0.984375)\n",
      "(80, 1.0)\n",
      "(81, 0.98046875)\n",
      "(82, 0.9921875)\n",
      "(83, 0.9921875)\n",
      "(84, 0.984375)\n",
      "(85, 0.98828125)\n",
      "(86, 0.99609375)\n",
      "(87, 0.98828125)\n",
      "(88, 0.9921875)\n",
      "(89, 0.98828125)\n",
      "(90, 0.984375)\n",
      "(91, 0.9765625)\n",
      "(92, 0.9921875)\n",
      "(93, 0.98828125)\n",
      "(94, 0.96875)\n",
      "(95, 0.98828125)\n",
      "(96, 0.97265625)\n",
      "(97, 1.0)\n",
      "(98, 0.98828125)\n",
      "(99, 0.98046875)\n"
     ]
    }
   ],
   "source": [
    "batch_size = 128\n",
    "test_size = 256\n",
    "# launch graph in a session\n",
    "with tf.Session() as sess:\n",
    "    # initialize all Variables\n",
    "    tf.global_variables_initializer().run()\n",
    "    # start training\n",
    "    for i in range(100):  # 100 epochs\n",
    "        training_batch = zip(range(0, len(trX), batch_size), range(batch_size, len(trX) + 1, batch_size))\n",
    "        for start, end in training_batch:\n",
    "            sess.run(train_op, feed_dict={X: trX[start:end], Y: trY[start:end], p_keep_conv: 0.8, p_keep_hidden: 0.5})\n",
    "        test_indices = np.arange(len(teX)) # get a test batch\n",
    "        np.random.shuffle(test_indices)\n",
    "        test_indices = test_indices[0: test_size]\n",
    "        print(i, np.mean(np.argmax(teY[test_indices], axis=1) == sess.run(predict_op, feed_dict={X: teX[test_indices], \n",
    "                                                                                                p_keep_conv: 0.8,\n",
    "                                                                                                p_keep_hidden: 0.5})))"
   ]
  }
 ],
 "metadata": {
  "kernelspec": {
   "display_name": "Python 3",
   "language": "python",
   "name": "python3"
  },
  "language_info": {
   "codemirror_mode": {
    "name": "ipython",
    "version": 2
   },
   "file_extension": ".py",
   "mimetype": "text/x-python",
   "name": "python",
   "nbconvert_exporter": "python",
   "pygments_lexer": "ipython2",
   "version": "2.7.13"
  }
 },
 "nbformat": 4,
 "nbformat_minor": 2
}
