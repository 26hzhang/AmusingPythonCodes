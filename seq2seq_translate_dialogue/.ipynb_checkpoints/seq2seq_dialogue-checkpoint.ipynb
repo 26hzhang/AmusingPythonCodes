{
 "cells": [
  {
   "cell_type": "code",
   "execution_count": null,
   "metadata": {
    "collapsed": true
   },
   "outputs": [],
   "source": [
    "'''\n",
    "This tutorial refers: http://github.com/suriyadeepan/easy_seq2seq\n",
    "However, it is no longer maintained, since the author creates another repository named \"practical_seq2seq\",\n",
    "and does experiments in that repo. Here is the link: https://github.com/suriyadeepan/practical_seq2seq\n",
    "Anyway, we will still use the codes in easy_seq2seq as example.\n",
    "Dataset available here: https://github.com/suriyadeepan/datasets/tree/master/seq2seq/cornell_movie_corpus\n",
    "'''\n",
    "import math\n",
    "import os\n",
    "import random\n",
    "import sys\n",
    "import time\n",
    "\n",
    "import numpy as np\n",
    "from six.moves import xrange\n",
    "import tensorflow as tf\n",
    "\n",
    "import data_utils\n",
    "import seq2seq_model\n",
    "\n",
    "# In Python 3, ConfigParser has been renamed to configparser for PEP 8 compliance.\n",
    "try:\n",
    "    from ConfigParser import SafeConfigParser\n",
    "except:\n",
    "    from configparser import SafeConfigParser"
   ]
  },
  {
   "cell_type": "code",
   "execution_count": null,
   "metadata": {
    "collapsed": true
   },
   "outputs": [],
   "source": [
    "gConfig = {}  # define configuration\n",
    "\n",
    "def get_config(config_file='seq2seq.ini'):\n",
    "    parser = SafeConfigParser()\n",
    "    parser.read(config_file)\n",
    "    _conf_ints = [ (key, int(value)) for key, value in parser.items('ints') ]  # obtain ints value\n",
    "    _conf_floats = [ (key, float(value)) for key, value in parser.items('floats') ]  # obtain floats value\n",
    "    _conf_strings = [ (key, str(value)) for key, value in parser.items('strings') ]  # obtain strings value\n",
    "    return dict(_conf_ints + _conf_floats + _conf_strings)"
   ]
  },
  {
   "cell_type": "code",
   "execution_count": null,
   "metadata": {
    "collapsed": true
   },
   "outputs": [],
   "source": [
    "# We use a number of buckets and pad to the closest one for efficiency.\n",
    "# See seq2seq_model.Seq2SeqModel for details of how they work.\n",
    "_buckets = [(5, 10), (10, 15), (20, 25), (40, 50)]"
   ]
  },
  {
   "cell_type": "code",
   "execution_count": null,
   "metadata": {
    "collapsed": true
   },
   "outputs": [],
   "source": [
    "def read_data(source_path, target_path, max_size=None):\n",
    "    \"\"\"Read data from source and target file and put into buckets.\n",
    "    Args:\n",
    "        source_path: path to the files with token-ids for the source language\n",
    "        target_path: path to the files with token-ids for the target language; it must be aligned with the source\n",
    "                     file: n-th line contains the desired output for n-th line from the source_path\n",
    "        max_size: maximum number of lines to read, all other will be ignored. if 0 or None, load all\n",
    "    \n",
    "    Returns:\n",
    "        data_set: a list of length len(_buckets); data_set[n] contains a list of (source, target) pairs read from\n",
    "                  provided data file that fit into the n-th bucket, i.e., such that len(source) < _bucket[n][0]\n",
    "                  and len(target) < _bukcets[n][1]; source and target are lists of token-ids\n",
    "    \"\"\"\n",
    "    data_set = [[] for _ in _buckets]  # initialize data_set\n",
    "    with tf.gfile.GFile(source_path, mode='r') as source_file:\n",
    "        with tf.gfile.GFile(target_path, mode='r') as target_file:\n",
    "            source, target = source_file.readLine(), target_file.readLine()  # read a line\n",
    "            counter = 0  # used for count and print how many lines are loaded currently\n",
    "            while source and target and (not max_size or counter < max_size):\n",
    "                counter += 1\n",
    "                if counter % 100000 == 0:\n",
    "                    print('%d lines are loaded.' % counter)\n",
    "                    sys.stdout.flush()\n",
    "                source_ids = [int(x) for x in source.split()]  # convert source_ids to int and store\n",
    "                target_ids = [int(x) for x in target.split()]  # convert target_ids to int and store\n",
    "                target_ids.append(data_utils.EOS_ID)\n",
    "                for bucket_id, (source_size, target_size) in enumerate(_buckets):\n",
    "                    if len(source_ids) < source_size and len(target_ids) < target_size:\n",
    "                        data_set[bucket_id].append([source_ids, target_ids])\n",
    "                        break\n",
    "                source, target = source_file.readLine(), target_file.readLine()  # read a line\n",
    "    return data_set"
   ]
  },
  {
   "cell_type": "code",
   "execution_count": null,
   "metadata": {
    "collapsed": true
   },
   "outputs": [],
   "source": [
    "def create_model(session, forward_only):\n",
    "    \"\"\"create model and initialize or load parameters\"\"\"\n",
    "    model = seq2seq_model.Seq2SeqModel(gConfig['enc_vocab_size'], gConfig['dec_vocab_size'], _buckets, \n",
    "                                       gConfig['layer_size'], gConfig['num_layers'], gConfig['max_gradient_norm'], \n",
    "                                       gConfig['batch_size'], gConfig['learning_rate'], \n",
    "                                       gConfig['learning_rate_decay_factor'], forward_only=forward_only)\n",
    "    if 'pretrained_model' in gConfig:\n",
    "        model.saver.restore(session, gConfig['pretrained_model'])\n",
    "        return model\n",
    "    \n",
    "    ckpt = tf.train.get_checkpoint_state(gConfig['working_directory'])\n",
    "    if ckpt and ckpt.model_checkpoint_path:\n",
    "        print('Reading model parameters from %s' % ckpt.model_checkpoint_path)\n",
    "        model.saver.restore(session, ckpt.model_checkpoint_path)\n",
    "    else:\n",
    "        print('Created model with fresh parameters.')\n",
    "        session.run(tf.global_variables_initializer())\n",
    "    return model"
   ]
  },
  {
   "cell_type": "code",
   "execution_count": null,
   "metadata": {
    "collapsed": true
   },
   "outputs": [],
   "source": [
    "def train():\n",
    "    # prepare dataset\n",
    "    print('Preparing data in %s' % gConfig['working_directory'])\n",
    "    enc_train, dec_train, enc_dev, dec_dev, _, _ = data_utils.prepare_custom_data(gConfig['working_directory'], \n",
    "                                                                                 gConfig['train_enc'], \n",
    "                                                                                 gConfig['train_dec'], \n",
    "                                                                                 gConfig['test_enc'], \n",
    "                                                                                 gConfig['test_dec'], \n",
    "                                                                                 gConfig['enc_vocab_size'], \n",
    "                                                                                 gConfig['dec_vocab_size'])\n",
    "    # setup config to use BFC allocator\n",
    "    # config = tf.ConfigProto\n",
    "    # config.gpu_options.allocator_type = 'BFC'\n",
    "    \n",
    "    with tf.Session() as sess:\n",
    "        # create model\n",
    "        print(\"Create %d layers of %d units.\" % (gConfig['num_layers'], gConfig['layer_size']))\n",
    "        model = create_model(sess, False)\n",
    "        # read data into backets and compute their size\n",
    "        print('Reading development and training data (limit: %d).' % gConfig['max_train_data_size'])\n",
    "        dev_set = read_data(enc_dev, dec_dev)\n",
    "        train_set = read_data(enc_train, dec_train, max_size=gConfig['max_train_data_size'])\n",
    "        train_bucket_sizes = [len(train_set[b]) for b in xrange(len(_buckets))]\n",
    "        train_total_size = float(sum(train_bucket_sizes))\n",
    "        # A bucket scale is a list of increasing numbers from 0 to 1 that we'll use to select a bucket.\n",
    "        # Length of [scale[i], scale[i+1]] is proportional to the size if i-th training bucket, as used later.\n",
    "        train_buckets_scale = [sum(train_bucket_sizes[:i+1]) / train_total_size \n",
    "                               for i in xrange(len(train_bucket_sizes))]\n",
    "        \n",
    "        # This is the training loop\n",
    "        step_time, loss = 0.0, 0.0\n",
    "        current_step = 0\n",
    "        previous_loss = []\n",
    "        while True:\n",
    "            # Choose a bucket according to data distribution. We pick a random number in [0, 1] and \n",
    "            # use the corresponding interval in train_buckets_scale.\n",
    "            random_number_01 = np.random.random_sample()\n",
    "            bucket_id = min([i for i in xrange(len(train_buckets_scale)) \n",
    "                             if train_buckets_scale[i] > random_number_01])\n",
    "            \n",
    "            # get a batch and make a step\n",
    "            start_time = time.time()\n",
    "            encoder_inputs, decoder_inputs, target_weights = model.get_batch(train_set, bucket_id)\n",
    "            _, step_loss, _ = model.step(sess, encoder_inputs, decoder_inputs, target_weights, bucket_id, False)\n",
    "            step_time += (time.time() - start_time) / gConfig['steps_per_checkpoint']\n",
    "            loss += step_loss / gConfig['steps_per_checkpoint']\n",
    "            current_step += 1\n",
    "            \n",
    "            # Once in a while, we save checkpoint, print statistics, and run evals\n",
    "            if current_step % gConfig['step_per_checkpoint'] == 0:\n",
    "                # print statistics for previous epoch.\n",
    "                perplexity = math.exp(loss) if loss < 300 else float('inf')\n",
    "                print('global step %d learning rate %.4f step-time %.2f perplexity %.2f' % \n",
    "                      (model.global_step.eval(), model.learning_rate.eval(), step_time, perplexity))\n",
    "                # Decrease learning rate if no improvement was seen over last 3 times.\n",
    "                if len(previous_loss) > 2 and loss > max(previous_loss[-3:]):\n",
    "                    sess.run(model.learning_rate_decay_op)\n",
    "                previous_loss.append(loss)\n",
    "                # save checkpoint and zero timer and loss\n",
    "                checkpoint_path = os.path.join(gConfig['working_directory'], 'seq2seq.ckpt')\n",
    "                model.saver.save(sess, checkpoint_path, global_step=model.global_step)\n",
    "                step_time, loss = 0.0, 0.0\n",
    "                # Run evals on development set and print their perplexity.\n",
    "                for bucket_id in xrange(len(_buckets)):\n",
    "                    if len(dev_set[bucket_id]) == 0:\n",
    "                        print('eval: empty bucket %d' % (bucket_id))\n",
    "                        continue\n",
    "                    encoder_inputs, decoder_inputs, target_weights = model.get_batch(dev_set, bucket_id)\n",
    "                    _, eval_loss, _ = mode.step(sess, encoder_inputs, decoder_inputs, target_weights, \n",
    "                                                bucket_id, True)\n",
    "                    eval_ppx = math.exp(eval_loss) if eval_loss < 300 else float('inf')\n",
    "                    print('eval: bucket %d perplexity %.2f' % (bucket_id, eval_ppx))\n",
    "                sys.stdout.flush()"
   ]
  },
  {
   "cell_type": "code",
   "execution_count": null,
   "metadata": {},
   "outputs": [],
   "source": [
    "def decode():\n",
    "    with tf.Session as sess:\n",
    "        # create a model and load parameters\n",
    "        model = create_model(sess, True)\n",
    "        model.batch_size = 1  # decode one sentence a time\n",
    "        # load vocabularies\n",
    "        enc_vocab_path = os.path.join(gConfig['working_directory'], 'vocab%d.enc' % gConfig['enc_vocab_size'])\n",
    "        dec_vocab_path = os.path.join(gConfig['working_directory'], 'vocab%d.dec' % gConfig['dec_vocab_size'])\n",
    "        \n",
    "        enc_vocab, _ = data_utils.initialize_vocabulary(enc_vocab_path)\n",
    "        _, rev_dec_vocab = data_utils.initialize_vocabulary(dec_vocab_path)\n",
    "        \n",
    "        # decode from standard input.\n",
    "        sys.stdout.write('> ')\n",
    "        sys.stdout.flush()\n",
    "        sentence = sys.stdin.readline()\n",
    "        while sentence:\n",
    "            # get token-ids for input sentence.\n",
    "            token_ids = data_utils.sentence_to_token_ids(tf.compat.as_bytes(sentence), enc_vocab)\n",
    "            # which bucket does it belong to?\n",
    "            bucket_id = min([b for b in xrange(len(_buckets)) if _buckets[b] > len(token_ids)])\n",
    "            # get a 1-element batch to feed the sentence to the model\n",
    "            encoder_inputs, decoder_inputs, target_weights = model.get_batch({bucket_id: [(token_ids, [])]}, \n",
    "                                                                             bucket_id)\n",
    "            # get output logits for the sentence\n",
    "            _, _, output_logits = model.step(sess, encoder_inputs, decoder_inputs, target_weights, bucket_id, True)\n",
    "            # This is a greedy decoder - outputs are just argmax of output_logits\n",
    "            outputs = [int(np.argmax(logit, axis=1)) for logit in output_logits]\n",
    "            # It there is an EOS symbol in outputs, cut them at that point\n",
    "            if data_utils.EOS_ID in outputs:\n",
    "                outputs = outputs[:outputs.index(data_utils.EOS_ID)]\n",
    "            # Print out French sentence corresponding to output\n",
    "            print(' '.join([tf.compat.as_str(rev_dec_vocab[output]) for output in outputs]))\n",
    "            print('>')\n",
    "            sys.stdout.flush()\n",
    "            sentence = sys.stdin.readline()"
   ]
  },
  {
   "cell_type": "code",
   "execution_count": null,
   "metadata": {
    "collapsed": true
   },
   "outputs": [],
   "source": [
    "def self_test():\n",
    "    \"\"\"Test the translation model.\"\"\"\n",
    "    with tf.Session() as sess:\n",
    "        print(\"Self-test for neural translation model.\")\n",
    "        # Create model with vocabularies of 10, 2 small buckets, 2 layers of 32.\n",
    "        model = seq2seq_model.Seq2SeqModel(10, 10, [(3, 3), (6, 6)], 32, 2, 5.0, 32, 0.3, 0.99, num_samples=8)\n",
    "        sess.run(tf.initialize_all_variables())\n",
    "\n",
    "        # Fake data set for both the (3, 3) and (6, 6) bucket.\n",
    "        data_set = ([([1, 1], [2, 2]), ([3, 3], [4]), ([5], [6])],\n",
    "                    [([1, 1, 1, 1, 1], [2, 2, 2, 2, 2]), ([3, 3, 3], [5, 6])])\n",
    "        for _ in xrange(5):  # Train the fake model for 5 steps.\n",
    "            bucket_id = random.choice([0, 1])\n",
    "            encoder_inputs, decoder_inputs, target_weights = model.get_batch(data_set, bucket_id)\n",
    "            model.step(sess, encoder_inputs, decoder_inputs, target_weights, bucket_id, False)"
   ]
  },
  {
   "cell_type": "code",
   "execution_count": null,
   "metadata": {
    "collapsed": true
   },
   "outputs": [],
   "source": [
    "def init_session(sess, conf='seq2seq.ini'):\n",
    "    global gConfig\n",
    "    gConfig = get_config(conf)\n",
    "\n",
    "    # Create model and load parameters.\n",
    "    model = create_model(sess, True)\n",
    "    model.batch_size = 1  # We decode one sentence at a time.\n",
    "\n",
    "    # Load vocabularies.\n",
    "    enc_vocab_path = os.path.join(gConfig['working_directory'], \"vocab%d.enc\" % gConfig['enc_vocab_size'])\n",
    "    dec_vocab_path = os.path.join(gConfig['working_directory'], \"vocab%d.dec\" % gConfig['dec_vocab_size'])\n",
    "\n",
    "    enc_vocab, _ = data_utils.initialize_vocabulary(enc_vocab_path)\n",
    "    _, rev_dec_vocab = data_utils.initialize_vocabulary(dec_vocab_path)\n",
    "\n",
    "    return sess, model, enc_vocab, rev_dec_vocab"
   ]
  },
  {
   "cell_type": "code",
   "execution_count": null,
   "metadata": {
    "collapsed": true
   },
   "outputs": [],
   "source": [
    "def decode_line(sess, model, enc_vocab, rev_dec_vocab, sentence):\n",
    "    # Get token-ids for the input sentence.\n",
    "    token_ids = data_utils.sentence_to_token_ids(tf.compat.as_bytes(sentence), enc_vocab)\n",
    "\n",
    "    # Which bucket does it belong to?\n",
    "    bucket_id = min([b for b in xrange(len(_buckets)) if _buckets[b][0] > len(token_ids)])\n",
    "\n",
    "    # Get a 1-element batch to feed the sentence to the model.\n",
    "    encoder_inputs, decoder_inputs, target_weights = model.get_batch({bucket_id: [(token_ids, [])]}, bucket_id)\n",
    "\n",
    "    # Get output logits for the sentence.\n",
    "    _, _, output_logits = model.step(sess, encoder_inputs, decoder_inputs, target_weights, bucket_id, True)\n",
    "\n",
    "    # This is a greedy decoder - outputs are just argmaxes of output_logits.\n",
    "    outputs = [int(np.argmax(logit, axis=1)) for logit in output_logits]\n",
    "\n",
    "    # If there is an EOS symbol in outputs, cut them at that point.\n",
    "    if data_utils.EOS_ID in outputs:\n",
    "        outputs = outputs[:outputs.index(data_utils.EOS_ID)]\n",
    "\n",
    "    return \" \".join([tf.compat.as_str(rev_dec_vocab[output]) for output in outputs])"
   ]
  },
  {
   "cell_type": "code",
   "execution_count": null,
   "metadata": {
    "scrolled": false
   },
   "outputs": [],
   "source": [
    "if __name__ == '__main__':\n",
    "    # get configuration from seq2seq.ini\n",
    "    gConfig = get_config()\n",
    "\n",
    "    print('\\n>> Mode : %s\\n' % (gConfig['mode']))\n",
    "\n",
    "    if gConfig['mode'] == 'train':\n",
    "        # start training\n",
    "        train()\n",
    "    elif gConfig['mode'] == 'test':\n",
    "        # interactive decode\n",
    "        decode()\n",
    "    else:\n",
    "        print('Nothing to do....')"
   ]
  },
  {
   "cell_type": "code",
   "execution_count": null,
   "metadata": {
    "collapsed": true
   },
   "outputs": [],
   "source": []
  }
 ],
 "metadata": {
  "kernelspec": {
   "display_name": "Python 3",
   "language": "python",
   "name": "python3"
  },
  "language_info": {
   "codemirror_mode": {
    "name": "ipython",
    "version": 2
   },
   "file_extension": ".py",
   "mimetype": "text/x-python",
   "name": "python",
   "nbconvert_exporter": "python",
   "pygments_lexer": "ipython2",
   "version": "2.7.13"
  }
 },
 "nbformat": 4,
 "nbformat_minor": 2
}
