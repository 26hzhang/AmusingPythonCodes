{
 "cells": [
  {
   "cell_type": "code",
   "execution_count": 1,
   "metadata": {},
   "outputs": [
    {
     "name": "stderr",
     "output_type": "stream",
     "text": [
      "Using TensorFlow backend.\n"
     ]
    }
   ],
   "source": [
    "import numpy as np\n",
    "import matplotlib.pyplot as plt\n",
    "import pandas as pd\n",
    "import time\n",
    "from sklearn import preprocessing\n",
    "from math import sqrt\n",
    "from keras.models import Sequential\n",
    "from keras.layers.core import Dense, Dropout\n",
    "from keras.layers.recurrent import LSTM\n",
    "import warnings\n",
    "warnings.filterwarnings('ignore')"
   ]
  },
  {
   "cell_type": "code",
   "execution_count": 2,
   "metadata": {
    "collapsed": true
   },
   "outputs": [],
   "source": [
    "data = pd.read_csv(\"prices-split-adjusted.csv\", index_col=0)\n",
    "data['adj close'] = data.close\n",
    "data.drop(['close'], 1, inplace=True)\n",
    "data = data[data.symbol == 'GOOG']\n",
    "data.drop(['symbol'], 1, inplace=True)"
   ]
  },
  {
   "cell_type": "code",
   "execution_count": 3,
   "metadata": {
    "collapsed": true
   },
   "outputs": [],
   "source": [
    "def normalize_data(df):\n",
    "    min_max_scaler = preprocessing.MinMaxScaler()\n",
    "    df['open'] = min_max_scaler.fit_transform(df.open.values.reshape(-1, 1))\n",
    "    df['high'] = min_max_scaler.fit_transform(df.high.values.reshape(-1, 1))\n",
    "    df['low'] = min_max_scaler.fit_transform(df.low.values.reshape(-1, 1))\n",
    "    df['volume'] = min_max_scaler.fit_transform(df.volume.values.reshape(-1, 1))\n",
    "    df['adj close'] = min_max_scaler.fit_transform(df['adj close'].values.reshape(-1, 1))\n",
    "    return df"
   ]
  },
  {
   "cell_type": "code",
   "execution_count": 4,
   "metadata": {
    "collapsed": true
   },
   "outputs": [],
   "source": [
    "df = normalize_data(data)"
   ]
  },
  {
   "cell_type": "code",
   "execution_count": 5,
   "metadata": {
    "collapsed": true
   },
   "outputs": [],
   "source": [
    "def load_data(stock, seq_len):\n",
    "    amount_of_features = len(stock.columns)\n",
    "    data = stock.as_matrix()\n",
    "    sequence_length = seq_len + 1\n",
    "    result = []\n",
    "    for index in range(len(data) - sequence_length):\n",
    "        result.append(data[index: index + sequence_length])\n",
    "    result = np.array(result)\n",
    "    row = round(0.9 * result.shape[0])\n",
    "    train = result[:int(row), :]\n",
    "\n",
    "    x_train = train[:, :-1]\n",
    "    y_train = train[:, -1][:, -1]\n",
    "\n",
    "    x_test = result[int(row):, :-1]\n",
    "    y_test = result[int(row):, -1][:, -1]\n",
    "\n",
    "    x_train = np.reshape(x_train, (x_train.shape[0], x_train.shape[1], amount_of_features))\n",
    "    x_test = np.reshape(x_test, (x_test.shape[0], x_test.shape[1], amount_of_features))\n",
    "\n",
    "    return [x_train, y_train, x_test, y_test]"
   ]
  },
  {
   "cell_type": "code",
   "execution_count": 6,
   "metadata": {
    "collapsed": true
   },
   "outputs": [],
   "source": [
    "def build_model(layers):\n",
    "    model = Sequential()\n",
    "\n",
    "    model.add(LSTM(256, input_shape=(layers[1], layers[0]), return_sequences=True))\n",
    "    model.add(Dropout(0.3))\n",
    "\n",
    "    model.add(LSTM(256, input_shape=(layers[1], layers[0]), return_sequences=False))\n",
    "    model.add(Dropout(0.3))\n",
    "\n",
    "    model.add(Dense(32, kernel_initializer='uniform', activation='relu'))\n",
    "    model.add(Dense(1, kernel_initializer='uniform', activation='linear'))\n",
    "\n",
    "    start = time.time()\n",
    "    model.compile(loss='mse', optimizer='adam', metrics=['accuracy'])\n",
    "    print(\"Compilation Time: \", time.time() - start)\n",
    "    return model"
   ]
  },
  {
   "cell_type": "code",
   "execution_count": 7,
   "metadata": {
    "collapsed": true
   },
   "outputs": [],
   "source": [
    "window = 22  # assume 22 warking days per month\n",
    "x_train, y_train, x_test, y_test = load_data(df, window)"
   ]
  },
  {
   "cell_type": "code",
   "execution_count": 8,
   "metadata": {},
   "outputs": [
    {
     "name": "stdout",
     "output_type": "stream",
     "text": [
      "('Compilation Time: ', 0.05748796463012695)\n",
      "Train on 1408 samples, validate on 157 samples\n",
      "Epoch 1/90\n",
      "1408/1408 [==============================] - 11s - loss: 0.1275 - acc: 7.1023e-04 - val_loss: 0.4972 - val_acc: 0.0000e+00\n",
      "Epoch 2/90\n",
      "1408/1408 [==============================] - 8s - loss: 0.0560 - acc: 7.1023e-04 - val_loss: 0.0498 - val_acc: 0.0000e+00\n",
      "Epoch 3/90\n",
      "1408/1408 [==============================] - 8s - loss: 0.0364 - acc: 7.1023e-04 - val_loss: 0.1360 - val_acc: 0.0000e+00\n",
      "Epoch 4/90\n",
      "1408/1408 [==============================] - 8s - loss: 0.0152 - acc: 7.1023e-04 - val_loss: 0.1909 - val_acc: 0.0000e+00\n",
      "Epoch 5/90\n",
      "1408/1408 [==============================] - 8s - loss: 0.0160 - acc: 7.1023e-04 - val_loss: 0.0927 - val_acc: 0.0000e+00\n",
      "Epoch 6/90\n",
      "1408/1408 [==============================] - 8s - loss: 0.0055 - acc: 7.1023e-04 - val_loss: 0.0356 - val_acc: 0.0000e+00\n",
      "Epoch 7/90\n",
      "1408/1408 [==============================] - 8s - loss: 0.0080 - acc: 7.1023e-04 - val_loss: 0.0572 - val_acc: 0.0000e+00\n",
      "Epoch 8/90\n",
      "1408/1408 [==============================] - 10s - loss: 0.0036 - acc: 7.1023e-04 - val_loss: 0.0808 - val_acc: 0.0000e+00\n",
      "Epoch 9/90\n",
      "1408/1408 [==============================] - 12s - loss: 0.0057 - acc: 7.1023e-04 - val_loss: 0.0519 - val_acc: 0.0000e+00\n",
      "Epoch 10/90\n",
      "1408/1408 [==============================] - 8s - loss: 0.0029 - acc: 7.1023e-04 - val_loss: 0.0288 - val_acc: 0.0000e+00\n",
      "Epoch 11/90\n",
      "1408/1408 [==============================] - 8s - loss: 0.0039 - acc: 7.1023e-04 - val_loss: 0.0415 - val_acc: 0.0000e+00\n",
      "Epoch 12/90\n",
      "1408/1408 [==============================] - 8s - loss: 0.0023 - acc: 7.1023e-04 - val_loss: 0.0625 - val_acc: 0.0000e+00\n",
      "Epoch 13/90\n",
      "1408/1408 [==============================] - 8s - loss: 0.0027 - acc: 7.1023e-04 - val_loss: 0.0555 - val_acc: 0.0000e+00\n",
      "Epoch 14/90\n",
      "1408/1408 [==============================] - 7s - loss: 0.0019 - acc: 7.1023e-04 - val_loss: 0.0399 - val_acc: 0.0000e+00\n",
      "Epoch 15/90\n",
      "1408/1408 [==============================] - 8s - loss: 0.0024 - acc: 7.1023e-04 - val_loss: 0.0415 - val_acc: 0.0000e+00\n",
      "Epoch 16/90\n",
      "1408/1408 [==============================] - 8s - loss: 0.0017 - acc: 7.1023e-04 - val_loss: 0.0484 - val_acc: 0.0000e+00\n",
      "Epoch 17/90\n",
      "1408/1408 [==============================] - 8s - loss: 0.0018 - acc: 7.1023e-04 - val_loss: 0.0361 - val_acc: 0.0000e+00\n",
      "Epoch 18/90\n",
      "1408/1408 [==============================] - 8s - loss: 0.0016 - acc: 7.1023e-04 - val_loss: 0.0257 - val_acc: 0.0000e+00\n",
      "Epoch 19/90\n",
      "1408/1408 [==============================] - 8s - loss: 0.0015 - acc: 7.1023e-04 - val_loss: 0.0296 - val_acc: 0.0000e+00\n",
      "Epoch 20/90\n",
      "1408/1408 [==============================] - 8s - loss: 0.0016 - acc: 7.1023e-04 - val_loss: 0.0268 - val_acc: 0.0000e+00\n",
      "Epoch 21/90\n",
      "1408/1408 [==============================] - 8s - loss: 0.0014 - acc: 7.1023e-04 - val_loss: 0.0200 - val_acc: 0.0000e+00\n",
      "Epoch 22/90\n",
      "1408/1408 [==============================] - 9s - loss: 0.0014 - acc: 7.1023e-04 - val_loss: 0.0239 - val_acc: 0.0000e+00\n",
      "Epoch 23/90\n",
      "1408/1408 [==============================] - 8s - loss: 0.0014 - acc: 7.1023e-04 - val_loss: 0.0208 - val_acc: 0.0000e+00\n",
      "Epoch 24/90\n",
      "1408/1408 [==============================] - 8s - loss: 0.0013 - acc: 7.1023e-04 - val_loss: 0.0188 - val_acc: 0.0000e+00\n",
      "Epoch 25/90\n",
      "1408/1408 [==============================] - 8s - loss: 0.0012 - acc: 7.1023e-04 - val_loss: 0.0205 - val_acc: 0.0000e+00\n",
      "Epoch 26/90\n",
      "1408/1408 [==============================] - 8s - loss: 0.0013 - acc: 7.1023e-04 - val_loss: 0.0177 - val_acc: 0.0000e+00\n",
      "Epoch 27/90\n",
      "1408/1408 [==============================] - 8s - loss: 0.0013 - acc: 7.1023e-04 - val_loss: 0.0169 - val_acc: 0.0000e+00\n",
      "Epoch 28/90\n",
      "1408/1408 [==============================] - 7s - loss: 0.0014 - acc: 7.1023e-04 - val_loss: 0.0172 - val_acc: 0.0000e+00\n",
      "Epoch 29/90\n",
      "1408/1408 [==============================] - 8s - loss: 0.0013 - acc: 7.1023e-04 - val_loss: 0.0152 - val_acc: 0.0000e+00\n",
      "Epoch 30/90\n",
      "1408/1408 [==============================] - 11s - loss: 0.0013 - acc: 7.1023e-04 - val_loss: 0.0166 - val_acc: 0.0000e+00\n",
      "Epoch 31/90\n",
      "1408/1408 [==============================] - 7s - loss: 0.0012 - acc: 7.1023e-04 - val_loss: 0.0157 - val_acc: 0.0000e+00\n",
      "Epoch 32/90\n",
      "1408/1408 [==============================] - 8s - loss: 0.0013 - acc: 7.1023e-04 - val_loss: 0.0150 - val_acc: 0.0000e+00\n",
      "Epoch 33/90\n",
      "1408/1408 [==============================] - 9s - loss: 0.0012 - acc: 7.1023e-04 - val_loss: 0.0153 - val_acc: 0.0000e+00\n",
      "Epoch 34/90\n",
      "1408/1408 [==============================] - 8s - loss: 0.0013 - acc: 7.1023e-04 - val_loss: 0.0143 - val_acc: 0.0000e+00\n",
      "Epoch 35/90\n",
      "1408/1408 [==============================] - 8s - loss: 0.0012 - acc: 7.1023e-04 - val_loss: 0.0143 - val_acc: 0.0000e+00\n",
      "Epoch 36/90\n",
      "1408/1408 [==============================] - 11s - loss: 0.0012 - acc: 7.1023e-04 - val_loss: 0.0153 - val_acc: 0.0000e+00\n",
      "Epoch 37/90\n",
      "1408/1408 [==============================] - 8s - loss: 0.0012 - acc: 7.1023e-04 - val_loss: 0.0138 - val_acc: 0.0000e+00\n",
      "Epoch 38/90\n",
      "1408/1408 [==============================] - 7s - loss: 0.0012 - acc: 7.1023e-04 - val_loss: 0.0135 - val_acc: 0.0000e+00\n",
      "Epoch 39/90\n",
      "1408/1408 [==============================] - 10s - loss: 0.0012 - acc: 7.1023e-04 - val_loss: 0.0129 - val_acc: 0.0000e+00\n",
      "Epoch 40/90\n",
      "1408/1408 [==============================] - 9s - loss: 0.0012 - acc: 7.1023e-04 - val_loss: 0.0126 - val_acc: 0.0000e+00\n",
      "Epoch 41/90\n",
      "1408/1408 [==============================] - 10s - loss: 0.0012 - acc: 7.1023e-04 - val_loss: 0.0130 - val_acc: 0.0000e+00\n",
      "Epoch 42/90\n",
      "1408/1408 [==============================] - 7s - loss: 0.0011 - acc: 7.1023e-04 - val_loss: 0.0111 - val_acc: 0.0000e+00\n",
      "Epoch 43/90\n",
      "1408/1408 [==============================] - 7s - loss: 0.0012 - acc: 7.1023e-04 - val_loss: 0.0126 - val_acc: 0.0000e+00\n",
      "Epoch 44/90\n",
      "1408/1408 [==============================] - 8s - loss: 0.0012 - acc: 7.1023e-04 - val_loss: 0.0120 - val_acc: 0.0000e+00\n",
      "Epoch 45/90\n",
      "1408/1408 [==============================] - 8s - loss: 0.0011 - acc: 7.1023e-04 - val_loss: 0.0105 - val_acc: 0.0000e+00\n",
      "Epoch 46/90\n",
      "1408/1408 [==============================] - 9s - loss: 0.0012 - acc: 7.1023e-04 - val_loss: 0.0110 - val_acc: 0.0000e+00\n",
      "Epoch 47/90\n",
      "1408/1408 [==============================] - 9s - loss: 0.0011 - acc: 7.1023e-04 - val_loss: 0.0101 - val_acc: 0.0000e+00\n",
      "Epoch 48/90\n",
      "1408/1408 [==============================] - 9s - loss: 0.0011 - acc: 7.1023e-04 - val_loss: 0.0101 - val_acc: 0.0000e+00\n",
      "Epoch 49/90\n",
      "1408/1408 [==============================] - 9s - loss: 0.0011 - acc: 7.1023e-04 - val_loss: 0.0077 - val_acc: 0.0000e+00\n",
      "Epoch 50/90\n",
      "1408/1408 [==============================] - 7s - loss: 0.0011 - acc: 7.1023e-04 - val_loss: 0.0098 - val_acc: 0.0000e+00\n",
      "Epoch 51/90\n",
      "1408/1408 [==============================] - 8s - loss: 0.0011 - acc: 7.1023e-04 - val_loss: 0.0083 - val_acc: 0.0000e+00\n",
      "Epoch 52/90\n",
      "1408/1408 [==============================] - 9s - loss: 0.0011 - acc: 7.1023e-04 - val_loss: 0.0088 - val_acc: 0.0000e+00\n",
      "Epoch 53/90\n",
      "1408/1408 [==============================] - 8s - loss: 0.0011 - acc: 7.1023e-04 - val_loss: 0.0079 - val_acc: 0.0000e+00\n",
      "Epoch 54/90\n",
      "1408/1408 [==============================] - 9s - loss: 0.0011 - acc: 7.1023e-04 - val_loss: 0.0081 - val_acc: 0.0000e+00\n",
      "Epoch 55/90\n",
      "1408/1408 [==============================] - 9s - loss: 0.0011 - acc: 7.1023e-04 - val_loss: 0.0074 - val_acc: 0.0000e+00\n",
      "Epoch 56/90\n",
      "1408/1408 [==============================] - 8s - loss: 0.0010 - acc: 7.1023e-04 - val_loss: 0.0073 - val_acc: 0.0000e+00\n",
      "Epoch 57/90\n",
      "1408/1408 [==============================] - 8s - loss: 0.0011 - acc: 7.1023e-04 - val_loss: 0.0078 - val_acc: 0.0000e+00\n",
      "Epoch 58/90\n",
      "1408/1408 [==============================] - 9s - loss: 0.0011 - acc: 7.1023e-04 - val_loss: 0.0066 - val_acc: 0.0000e+00\n",
      "Epoch 59/90\n",
      "1408/1408 [==============================] - 9s - loss: 0.0011 - acc: 7.1023e-04 - val_loss: 0.0068 - val_acc: 0.0000e+00\n",
      "Epoch 60/90\n",
      "1408/1408 [==============================] - 10s - loss: 0.0010 - acc: 7.1023e-04 - val_loss: 0.0090 - val_acc: 0.0000e+00\n",
      "Epoch 61/90\n"
     ]
    },
    {
     "name": "stdout",
     "output_type": "stream",
     "text": [
      "1408/1408 [==============================] - 12s - loss: 0.0011 - acc: 7.1023e-04 - val_loss: 0.0056 - val_acc: 0.0000e+00\n",
      "Epoch 62/90\n",
      "1408/1408 [==============================] - 11s - loss: 0.0011 - acc: 7.1023e-04 - val_loss: 0.0086 - val_acc: 0.0000e+00\n",
      "Epoch 63/90\n",
      "1408/1408 [==============================] - 9s - loss: 0.0011 - acc: 7.1023e-04 - val_loss: 0.0056 - val_acc: 0.0000e+00\n",
      "Epoch 64/90\n",
      "1408/1408 [==============================] - 10s - loss: 0.0010 - acc: 7.1023e-04 - val_loss: 0.0078 - val_acc: 0.0000e+00\n",
      "Epoch 65/90\n",
      "1408/1408 [==============================] - 10s - loss: 0.0010 - acc: 7.1023e-04 - val_loss: 0.0076 - val_acc: 0.0000e+00\n",
      "Epoch 66/90\n",
      "1408/1408 [==============================] - 10s - loss: 9.8156e-04 - acc: 7.1023e-04 - val_loss: 0.0060 - val_acc: 0.0000e+00\n",
      "Epoch 67/90\n",
      "1408/1408 [==============================] - 9s - loss: 9.5478e-04 - acc: 7.1023e-04 - val_loss: 0.0067 - val_acc: 0.0000e+00\n",
      "Epoch 68/90\n",
      "1408/1408 [==============================] - 9s - loss: 0.0011 - acc: 7.1023e-04 - val_loss: 0.0089 - val_acc: 0.0000e+00\n",
      "Epoch 69/90\n",
      "1408/1408 [==============================] - 9s - loss: 0.0010 - acc: 7.1023e-04 - val_loss: 0.0072 - val_acc: 0.0000e+00\n",
      "Epoch 70/90\n",
      "1408/1408 [==============================] - 10s - loss: 0.0010 - acc: 7.1023e-04 - val_loss: 0.0060 - val_acc: 0.0000e+00\n",
      "Epoch 71/90\n",
      "1408/1408 [==============================] - 9s - loss: 9.9282e-04 - acc: 7.1023e-04 - val_loss: 0.0052 - val_acc: 0.0000e+00\n",
      "Epoch 72/90\n",
      "1408/1408 [==============================] - 9s - loss: 9.6254e-04 - acc: 7.1023e-04 - val_loss: 0.0070 - val_acc: 0.0000e+00\n",
      "Epoch 73/90\n",
      "1408/1408 [==============================] - 8s - loss: 0.0010 - acc: 7.1023e-04 - val_loss: 0.0066 - val_acc: 0.0000e+00\n",
      "Epoch 74/90\n",
      "1408/1408 [==============================] - 8s - loss: 9.2404e-04 - acc: 7.1023e-04 - val_loss: 0.0073 - val_acc: 0.0000e+00\n",
      "Epoch 75/90\n",
      "1408/1408 [==============================] - 8s - loss: 9.1882e-04 - acc: 7.1023e-04 - val_loss: 0.0050 - val_acc: 0.0000e+00\n",
      "Epoch 76/90\n",
      "1408/1408 [==============================] - 8s - loss: 9.0179e-04 - acc: 7.1023e-04 - val_loss: 0.0053 - val_acc: 0.0000e+00\n",
      "Epoch 77/90\n",
      "1408/1408 [==============================] - 8s - loss: 9.9871e-04 - acc: 7.1023e-04 - val_loss: 0.0044 - val_acc: 0.0000e+00\n",
      "Epoch 78/90\n",
      "1408/1408 [==============================] - 8s - loss: 9.9633e-04 - acc: 7.1023e-04 - val_loss: 0.0041 - val_acc: 0.0000e+00\n",
      "Epoch 79/90\n",
      "1408/1408 [==============================] - 8s - loss: 0.0010 - acc: 7.1023e-04 - val_loss: 0.0030 - val_acc: 0.0000e+00\n",
      "Epoch 80/90\n",
      "1408/1408 [==============================] - 9s - loss: 0.0010 - acc: 7.1023e-04 - val_loss: 0.0057 - val_acc: 0.0000e+00\n",
      "Epoch 81/90\n",
      "1408/1408 [==============================] - 9s - loss: 0.0011 - acc: 7.1023e-04 - val_loss: 0.0118 - val_acc: 0.0000e+00\n",
      "Epoch 82/90\n",
      "1408/1408 [==============================] - 8s - loss: 0.0012 - acc: 7.1023e-04 - val_loss: 0.0149 - val_acc: 0.0000e+00\n",
      "Epoch 83/90\n",
      "1408/1408 [==============================] - 9s - loss: 0.0013 - acc: 7.1023e-04 - val_loss: 0.0057 - val_acc: 0.0000e+00\n",
      "Epoch 84/90\n",
      "1408/1408 [==============================] - 9s - loss: 9.8679e-04 - acc: 7.1023e-04 - val_loss: 0.0061 - val_acc: 0.0000e+00\n",
      "Epoch 85/90\n",
      "1408/1408 [==============================] - 8s - loss: 9.9143e-04 - acc: 7.1023e-04 - val_loss: 0.0127 - val_acc: 0.0000e+00\n",
      "Epoch 86/90\n",
      "1408/1408 [==============================] - 8s - loss: 9.8598e-04 - acc: 7.1023e-04 - val_loss: 0.0072 - val_acc: 0.0000e+00\n",
      "Epoch 87/90\n",
      "1408/1408 [==============================] - 7s - loss: 9.7728e-04 - acc: 7.1023e-04 - val_loss: 0.0064 - val_acc: 0.0000e+00\n",
      "Epoch 88/90\n",
      "1408/1408 [==============================] - 8s - loss: 9.0053e-04 - acc: 7.1023e-04 - val_loss: 0.0078 - val_acc: 0.0000e+00\n",
      "Epoch 89/90\n",
      "1408/1408 [==============================] - 8s - loss: 8.9777e-04 - acc: 7.1023e-04 - val_loss: 0.0070 - val_acc: 0.0000e+00\n",
      "Epoch 90/90\n",
      "1408/1408 [==============================] - 8s - loss: 8.1991e-04 - acc: 7.1023e-04 - val_loss: 0.0059 - val_acc: 0.0000e+00\n"
     ]
    },
    {
     "data": {
      "text/plain": [
       "<keras.callbacks.History at 0x1210faa90>"
      ]
     },
     "execution_count": 8,
     "metadata": {},
     "output_type": "execute_result"
    }
   ],
   "source": [
    "model = build_model([5, window, 1])\n",
    "model.fit(x_train, y_train, batch_size=512, epochs=90, validation_split=0.1, verbose=1)"
   ]
  },
  {
   "cell_type": "code",
   "execution_count": 9,
   "metadata": {},
   "outputs": [
    {
     "name": "stdout",
     "output_type": "stream",
     "text": [
      "(174, 1)\n"
     ]
    }
   ],
   "source": [
    "diff = []\n",
    "ratio = []\n",
    "p = model.predict(x_test)\n",
    "print(p.shape)"
   ]
  },
  {
   "cell_type": "code",
   "execution_count": 10,
   "metadata": {
    "collapsed": true
   },
   "outputs": [],
   "source": [
    "for u in range(len(y_test)):\n",
    "    pr = p[u][0]\n",
    "    ratio.append(y_test[u] / pr - 1)\n",
    "    diff.append(abs(y_test[u] - pr))"
   ]
  },
  {
   "cell_type": "code",
   "execution_count": 11,
   "metadata": {
    "collapsed": true
   },
   "outputs": [],
   "source": [
    "def denormalize(data, normalized_value):\n",
    "    data = data['adj close'].values.reshape(-1, 1)\n",
    "    normalized_value = normalized_value.reshape(-1, 1)\n",
    "    min_max_scaler = preprocessing.MinMaxScaler()\n",
    "    a = min_max_scaler.fit_transform(data)\n",
    "    new = min_max_scaler.inverse_transform(normalized_value)\n",
    "    return new"
   ]
  },
  {
   "cell_type": "code",
   "execution_count": 12,
   "metadata": {
    "collapsed": true
   },
   "outputs": [],
   "source": [
    "newp = denormalize(data, p)\n",
    "newy_test = denormalize(data, y_test)"
   ]
  },
  {
   "cell_type": "code",
   "execution_count": 13,
   "metadata": {
    "collapsed": true
   },
   "outputs": [],
   "source": [
    "def model_score(model, x_train, y_train, x_test, y_test):\n",
    "    trainScore = model.evaluate(x_train, y_train, verbose=0)\n",
    "    print('Train Score: %.5f MSE (%.2f RMSE)' % (trainScore[0], sqrt(trainScore[0])))\n",
    "\n",
    "    testScore = model.evaluate(x_test, y_test, verbose=0)\n",
    "    print('Test Score: %.5f MSE (%.2f RMSE)' % (testScore[0], sqrt(testScore[0])))\n",
    "    return trainScore[0], testScore[0]"
   ]
  },
  {
   "cell_type": "code",
   "execution_count": 14,
   "metadata": {},
   "outputs": [
    {
     "name": "stdout",
     "output_type": "stream",
     "text": [
      "Train Score: 0.00112 MSE (0.03 RMSE)\n",
      "Test Score: 0.00924 MSE (0.10 RMSE)\n"
     ]
    },
    {
     "data": {
      "text/plain": [
       "(0.0011246581142321944, 0.0092369676407041221)"
      ]
     },
     "execution_count": 14,
     "metadata": {},
     "output_type": "execute_result"
    }
   ],
   "source": [
    "model_score(model, x_train, y_train, x_test, y_test)"
   ]
  },
  {
   "cell_type": "code",
   "execution_count": 15,
   "metadata": {},
   "outputs": [
    {
     "data": {
      "image/png": "[encoded data removed]",
      "text/plain": [
       "<matplotlib.figure.Figure at 0x121895b10>"
      ]
     },
     "metadata": {},
     "output_type": "display_data"
    }
   ],
   "source": [
    "plt.plot(newp, color='red', label='Prediction')\n",
    "plt.plot(newy_test, color='blue', label='Actual')\n",
    "plt.legend(loc='best')\n",
    "plt.show()"
   ]
  }
 ],
 "metadata": {
  "kernelspec": {
   "display_name": "Python 3",
   "language": "python",
   "name": "python3"
  },
  "language_info": {
   "codemirror_mode": {
    "name": "ipython",
    "version": 2
   },
   "file_extension": ".py",
   "mimetype": "text/x-python",
   "name": "python",
   "nbconvert_exporter": "python",
   "pygments_lexer": "ipython2",
   "version": "2.7.13"
  }
 },
 "nbformat": 4,
 "nbformat_minor": 2
}
