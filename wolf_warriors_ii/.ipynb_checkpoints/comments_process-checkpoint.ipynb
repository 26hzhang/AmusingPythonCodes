{
 "cells": [
  {
   "cell_type": "code",
   "execution_count": null,
   "metadata": {
    "collapsed": true
   },
   "outputs": [],
   "source": [
    "import pandas as pd\n",
    "import warnings\n",
    "warnings.filterwarnings('ignore')"
   ]
  },
  {
   "cell_type": "code",
   "execution_count": null,
   "metadata": {},
   "outputs": [],
   "source": [
    "# load data\n",
    "column_names = ['Votes', 'Useful', 'User', 'Watched', 'Score', 'Date', 'Comment']\n",
    "data = pd.read_csv('./data/comments_clean.csv', header=None, names=column_names, skipinitialspace = True, quotechar = '`')\n",
    "# set value as string\n",
    "data['Votes'] = data['Votes'].astype(str)\n",
    "data['Useful'] = data['Useful'].astype(str)\n",
    "data['User'] = data['User'].astype(str)\n",
    "data['Watched'] = data['Watched'].astype(str)\n",
    "data['Score'] = data['Score'].astype(str)\n",
    "data['Date'] = data['Date'].astype(str)\n",
    "data['Comment'] = data['Comment'].astype(str)"
   ]
  },
  {
   "cell_type": "code",
   "execution_count": null,
   "metadata": {},
   "outputs": [],
   "source": [
    "# clean up\n",
    "data = data[data['Score'].map(len) == 6]\n",
    "data = data[data['Score'] != '看过']\n",
    "data = data[data['Date'].map(len) == 19]\n",
    "print('rows:', data.shape[0], ', columns: ', data.shape[1]) # count rows of total dataset"
   ]
  },
  {
   "cell_type": "code",
   "execution_count": null,
   "metadata": {},
   "outputs": [],
   "source": [
    "data.head()"
   ]
  },
  {
   "cell_type": "code",
   "execution_count": null,
   "metadata": {},
   "outputs": [],
   "source": [
    "data['Score'].value_counts()"
   ]
  },
  {
   "cell_type": "code",
   "execution_count": null,
   "metadata": {},
   "outputs": [],
   "source": [
    "data['Watched'].value_counts()"
   ]
  },
  {
   "cell_type": "code",
   "execution_count": null,
   "metadata": {},
   "outputs": [],
   "source": [
    "data['Useful'].value_counts()"
   ]
  },
  {
   "cell_type": "code",
   "execution_count": null,
   "metadata": {
    "scrolled": true
   },
   "outputs": [],
   "source": [
    "import matplotlib.pyplot as plt\n",
    "import numpy as np\n",
    "index = np.arange(5)\n",
    "score_counts = data['Score'].value_counts()\n",
    "values = (score_counts[0], score_counts[1], score_counts[2], score_counts[4], score_counts[3])\n",
    "bar_width = 0.35\n",
    "plt.figure(figsize=(20, 10))\n",
    "plt.bar(index, values, bar_width, alpha=0.6, color='rgbym')\n",
    "plt.xlabel('Score', fontsize=16)  \n",
    "plt.ylabel('Counts', fontsize=16)\n",
    "plt.title('Comments Level', fontsize=18)  \n",
    "plt.xticks(index, ('5-star', '4-star', '3-star', '2-star', '1-star'), fontsize=14, rotation=20)\n",
    "plt.ylim(0, 90000)\n",
    "plt.grid()\n",
    "for idx, value in zip(index, values):\n",
    "    plt.text(idx, value + 0.1, '%d' % value, ha='center', va='bottom', fontsize=14, color='black')\n",
    "plt.show()"
   ]
  },
  {
   "cell_type": "code",
   "execution_count": null,
   "metadata": {
    "collapsed": true
   },
   "outputs": [],
   "source": [
    "import re\n",
    "import jieba\n",
    "def segment_words(stars):\n",
    "    comments = None\n",
    "    if stars == 'all':\n",
    "        comments = data['Comment']\n",
    "    else:\n",
    "        comments = data[data['Score'] == stars]['Comment']\n",
    "    comments_list = []\n",
    "    for comment in comments:\n",
    "        comment = str(comment).strip().replace('span', '').replace('class', '').replace('emoji', '')\n",
    "        comment = re.compile('1f\\d+\\w*|[<>/=]').sub('', comment)\n",
    "        if (len(comment) > 0):\n",
    "            comments_list.append(comment)\n",
    "    text = ''.join(comments_list)\n",
    "    word_list = jieba.cut(text, cut_all=True)\n",
    "    '''\n",
    "    stopwords_list = []\n",
    "    # load chinese stop words\n",
    "    with open('./data/中文停用词表(1208个).txt') as file:\n",
    "        for line in file:\n",
    "            stopwords_list.append(line.strip())\n",
    "    print(len(stopwords_list))\n",
    "    with open('./data/停用词表.txt') as file:\n",
    "        for line in file:\n",
    "            line = line.strip()\n",
    "            if line not in stopwords_list:\n",
    "                stopwords_list.append(line)\n",
    "    print(len(stopwords_list))\n",
    "    # remove stop words from word_list\n",
    "    word_list = [word for word in word_list if word not in stopwords_list]\n",
    "    '''\n",
    "    words = ' '.join(word_list)\n",
    "    return words"
   ]
  },
  {
   "cell_type": "code",
   "execution_count": null,
   "metadata": {
    "collapsed": true
   },
   "outputs": [],
   "source": [
    "from wordcloud import WordCloud, ImageColorGenerator\n",
    "import PIL.Image as Image\n",
    "def plot_word_cloud(words):\n",
    "    coloring = np.array(Image.open('./data/chinese.jpg'))\n",
    "    wc = WordCloud(background_color='white', max_words=2000, mask=coloring, max_font_size=60, random_state=42, \n",
    "                   font_path='./data/DroidSansFallbackFull.ttf', scale=2).generate(words)\n",
    "    image_color = ImageColorGenerator(coloring)\n",
    "    plt.figure(figsize=(32, 16))\n",
    "    plt.imshow(wc.recolor(color_func=image_color))\n",
    "    plt.imshow(wc)\n",
    "    plt.axis('off')\n",
    "    plt.show()"
   ]
  },
  {
   "cell_type": "code",
   "execution_count": null,
   "metadata": {},
   "outputs": [],
   "source": [
    "all_words = segment_words('all')\n",
    "plot_word_cloud(all_words)"
   ]
  },
  {
   "cell_type": "code",
   "execution_count": null,
   "metadata": {},
   "outputs": [],
   "source": [
    "five_start_words = segment_words('力荐')\n",
    "plot_word_cloud(five_start_words)"
   ]
  },
  {
   "cell_type": "code",
   "execution_count": null,
   "metadata": {},
   "outputs": [],
   "source": [
    "four_start_words = segment_words('推荐')\n",
    "plot_word_cloud(four_start_words)"
   ]
  },
  {
   "cell_type": "code",
   "execution_count": null,
   "metadata": {},
   "outputs": [],
   "source": [
    "three_start_words = segment_words('还行')\n",
    "plot_word_cloud(three_start_words)"
   ]
  },
  {
   "cell_type": "code",
   "execution_count": null,
   "metadata": {},
   "outputs": [],
   "source": [
    "two_start_words = segment_words('较差')\n",
    "plot_word_cloud(two_start_words)"
   ]
  },
  {
   "cell_type": "code",
   "execution_count": null,
   "metadata": {},
   "outputs": [],
   "source": [
    "one_start_words = segment_words('很差')\n",
    "plot_word_cloud(one_start_words)"
   ]
  },
  {
   "cell_type": "code",
   "execution_count": null,
   "metadata": {
    "collapsed": true
   },
   "outputs": [],
   "source": []
  }
 ],
 "metadata": {
  "kernelspec": {
   "display_name": "Python 3",
   "language": "python",
   "name": "python3"
  },
  "language_info": {
   "codemirror_mode": {
    "name": "ipython",
    "version": 2
   },
   "file_extension": ".py",
   "mimetype": "text/x-python",
   "name": "python",
   "nbconvert_exporter": "python",
   "pygments_lexer": "ipython2",
   "version": "2.7.13"
  }
 },
 "nbformat": 4,
 "nbformat_minor": 2
}
